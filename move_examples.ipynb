{
 "cells": [
  {
   "cell_type": "code",
   "execution_count": 1,
   "id": "a27246fd-4f38-4615-83c4-2d28e54efcf7",
   "metadata": {},
   "outputs": [],
   "source": [
    "import numpy as np\n",
    "from numpy.linalg import norm\n",
    "import ipywidgets as widgets\n",
    "rng = np.random.default_rng(12345)\n",
    "import matplotlib.pyplot as plt\n",
    "import time \n",
    "import seaborn as sns\n",
    "sns.set_theme()\n",
    "\n",
    "from Pedestrian import Pedestrian\n",
    "from Environment import Environment"
   ]
  },
  {
   "cell_type": "markdown",
   "id": "180389b5-3298-4147-b692-3fba12f45792",
   "metadata": {},
   "source": [
    "## Construct some environments"
   ]
  },
  {
   "cell_type": "code",
   "execution_count": 2,
   "id": "5207d7b7-6ad5-4575-bffc-684aa86eda88",
   "metadata": {},
   "outputs": [],
   "source": [
    "bar_end1 = [np.array([75,50]),np.array([20,25])] \n",
    "bar_end2 = [np.array([15,80]), np.array([10,25])] \n",
    "obstacles = [bar_end1, bar_end2]\n",
    "\n",
    "wagons = Environment(obstacles, \"Wagons\")\n",
    "\n",
    "bar_end1 = [np.array([20,15]),np.array([25,70])] \n",
    "bar_end2 = [np.array([10,15]),np.array([15,70])]\n",
    "bar_end3 = [np.array([25,70]),np.array([150,70])] \n",
    "bar_end4 = [np.array([15,70]),np.array([-100,70])] \n",
    "bar_end5 = [np.array([150,150]),np.array([150,70])] \n",
    "bar_end6 = [np.array([-100,150]),np.array([-100,70])] \n",
    "\n",
    "obstacles = [bar_end1, bar_end2, bar_end3, bar_end4,bar_end5, bar_end6]\n",
    "corridor = Environment(obstacles, \"Corridor\")\n",
    "\n",
    "\n",
    "#Corridor\n",
    "height, width, left, right, wagon = 55, 10, 20, 60, 50\n",
    "bar_end1 = [np.array([left,height]),np.array([right,height])]\n",
    "bar_end2 = [np.array([left,height-width]),np.array([right,height-width])]\n",
    "bar_end3 = [np.array([right,height]),np.array([right+wagon,height+wagon])]\n",
    "bar_end4 = [np.array([right,height-width]),np.array([right+wagon,height-width-wagon])]\n",
    "bar_end5 = [np.array([left,height]),np.array([left-wagon,height+wagon])]\n",
    "bar_end6 = [np.array([left,height-width]),np.array([left-wagon,height-width-wagon])]\n",
    "\n",
    "obstacles = [bar_end1, bar_end2, bar_end3, bar_end4,bar_end5, bar_end6]\n",
    "corridor_two_way = Environment(obstacles, \"Corridor two way\")\n",
    "\n",
    "\"\"\"\n",
    "wagons.plot()\n",
    "corridor.plot()\n",
    "corridor_two_way.plot() \n",
    "\"\"\";"
   ]
  },
  {
   "cell_type": "markdown",
   "id": "5b07eeb5-597b-493f-9734-de0982980454",
   "metadata": {},
   "source": [
    "## Wagon queue"
   ]
  },
  {
   "cell_type": "code",
   "execution_count": 26,
   "id": "66d5c858-977b-4daa-a61a-65055459db84",
   "metadata": {},
   "outputs": [
    {
     "data": {
      "image/png": "[encoded data removed]",
      "text/plain": [
       "<Figure size 432x288 with 1 Axes>"
      ]
     },
     "metadata": {},
     "output_type": "display_data"
    }
   ],
   "source": [
    "wagons.plot()"
   ]
  },
  {
   "cell_type": "code",
   "execution_count": 13,
   "id": "45f39341-e624-4895-9e5a-3f3323d44c3c",
   "metadata": {
    "tags": []
   },
   "outputs": [
    {
     "name": "stdout",
     "output_type": "stream",
     "text": [
      "Runtime: 21.16\n"
     ]
    }
   ],
   "source": [
    "steps = int(1000/8)\n",
    "n_agents = 40\n",
    "pedestrians_wagons = []\n",
    "targets = rng.uniform(-30,0,2*n_agents).reshape(2,n_agents)\n",
    "positions = rng.uniform(80,100,2*n_agents).reshape(2,n_agents)\n",
    "for agent in range(n_agents):\n",
    "    pedestrians_wagons.append(Pedestrian(steps=steps,position=positions[:,agent],\n",
    "                                  target=targets[:,agent],obstacles=wagons.obstacles))\n",
    "\n",
    "t0 = time.time()\n",
    "for step in range(steps):\n",
    "    for ped in pedestrians_wagons: # Assess sourrounding pedestrians (obstacles are automatically assesed)\n",
    "        ped.assess_players(list(filter(lambda x: x != ped, pedestrians_wagons)))\n",
    "    for ped in pedestrians_wagons: # Perform optimal step\n",
    "        ped.walk_theta()\n",
    "print(\"Runtime:\", round(time.time() - t0,2))"
   ]
  },
  {
   "cell_type": "code",
   "execution_count": 14,
   "id": "9a6c1176-af53-4db4-8beb-6fa26f82662d",
   "metadata": {},
   "outputs": [
    {
     "data": {
      "application/vnd.jupyter.widget-view+json": {
       "model_id": "f50dfa14d23144ebb49030caf17d6790",
       "version_major": 2,
       "version_minor": 0
      },
      "text/plain": [
       "interactive(children=(IntSlider(value=2, description='n', max=125, min=2, step=5), Output()), _dom_classes=('w…"
      ]
     },
     "metadata": {},
     "output_type": "display_data"
    }
   ],
   "source": [
    "obstacles_plot = wagons.obstacles_to_plot()\n",
    "\n",
    "drag = 10\n",
    "size = 2\n",
    "@widgets.interact(n=(2,steps,5))\n",
    "def plot(n=1):\n",
    "    plt.figure(figsize=(5,5), dpi=80)\n",
    "    plt.title(f\"Time: {int(np.floor(n/60))}.{n%60}min\")\n",
    "    #plt.xlim(-20,100)\n",
    "    #plt.ylim(-20,100)\n",
    "    for obstacle_ in obstacles_plot:\n",
    "        plt.scatter(obstacle_[0], obstacle_[1], s=4, label=f\"Barrier\")\n",
    "        plt.gca().set_prop_cycle(None)\n",
    "    for ped in pedestrians_wagons:\n",
    "        plt.scatter(ped.target[0],ped.target[1], s=20, label=f\"{ped}\")\n",
    "    plt.gca().set_prop_cycle(None)\n",
    "    for ped in pedestrians_wagons:\n",
    "        plt.scatter(ped.history[0,max(1,n-drag):n],ped.history[1,max(1,n-drag):n], s=size, label=f\"{ped}\")"
   ]
  },
  {
   "cell_type": "markdown",
   "id": "e664d8e7-e597-4005-a75a-87401eb8126d",
   "metadata": {},
   "source": [
    "## Corridor with one directional flow"
   ]
  },
  {
   "cell_type": "code",
   "execution_count": null,
   "id": "2730b8f1-0119-4d6b-b943-6b1e248dede2",
   "metadata": {},
   "outputs": [],
   "source": [
    "corridor.plot()"
   ]
  },
  {
   "cell_type": "code",
   "execution_count": null,
   "id": "f0479de4-8a12-44bb-a07c-bdb836e6f5ab",
   "metadata": {
    "tags": []
   },
   "outputs": [],
   "source": [
    "steps = int(1000/2)\n",
    "n_agents = 30\n",
    "pedestrians_corridor = []\n",
    "targets = rng.uniform(-30,0,2*n_agents).reshape(2,n_agents)\n",
    "positions = rng.uniform(80,100,2*n_agents).reshape(2,n_agents)\n",
    "for agent in range(n_agents):\n",
    "    pedestrians_corridor.append(Pedestrian(steps=steps,position=positions[:,agent],\n",
    "                                  target=targets[:,agent],obstacles=corridor.obstacles))\n",
    "\n",
    "t0 = time.time()\n",
    "for step in range(steps):\n",
    "    for ped in pedestrians_corridor: # Assess sourrounding pedestrians (obstacles are automatically assesed)\n",
    "        ped.assess_players(list(filter(lambda x: x != ped, pedestrians_corridor)))\n",
    "    for ped in pedestrians_corridor: # Perform optimal step\n",
    "        ped.walk_theta()\n",
    "print(\"Runtime:\", round(time.time() - t0,2))"
   ]
  },
  {
   "cell_type": "code",
   "execution_count": null,
   "id": "2b30df4c-f621-421d-863a-3cc595d7bb7a",
   "metadata": {},
   "outputs": [],
   "source": [
    "obstacles_plot = corridor.obstacles_to_plot()\n",
    "\n",
    "drag = 1\n",
    "size = 2\n",
    "@widgets.interact(n=(2,steps,5))\n",
    "def plot(n=1):\n",
    "    plt.figure(figsize=(5,5), dpi=80)\n",
    "    plt.title(f\"Time: {int(np.floor(n/60))}.{n%60}min\")\n",
    "    #plt.xlim(-20,100)\n",
    "    #plt.ylim(-20,100)\n",
    "    for obstacle_ in obstacles_plot:\n",
    "        plt.scatter(obstacle_[0], obstacle_[1], s=4, label=f\"Barrier\")\n",
    "        plt.gca().set_prop_cycle(None)\n",
    "    for ped in pedestrians_corridor:\n",
    "        plt.scatter(ped.target[0],ped.target[1], s=20, label=f\"{ped}\")\n",
    "    plt.gca().set_prop_cycle(None)\n",
    "    for ped in pedestrians_corridor:\n",
    "        plt.scatter(ped.history[0,max(1,n-drag):n],ped.history[1,max(1,n-drag):n], s=size, label=f\"{ped}\")"
   ]
  },
  {
   "cell_type": "markdown",
   "id": "84f2c904-fe2f-41a7-9250-45d2495d22e7",
   "metadata": {},
   "source": [
    "## Corridor with two directional flow"
   ]
  },
  {
   "cell_type": "code",
   "execution_count": null,
   "id": "e96a4724-9592-46da-a86d-688fb2ae8102",
   "metadata": {},
   "outputs": [],
   "source": [
    "corridor_two_way.plot()"
   ]
  },
  {
   "cell_type": "code",
   "execution_count": 3,
   "id": "e2fbac36-257c-4af0-b909-9a9877af33e7",
   "metadata": {
    "tags": []
   },
   "outputs": [
    {
     "name": "stdout",
     "output_type": "stream",
     "text": [
      "Runtime: 221.19\n"
     ]
    }
   ],
   "source": [
    "steps = int(1000/8)\n",
    "n_agents = 100\n",
    "n_agents_left, n_agents_right = int(n_agents/2), int(n_agents/2)\n",
    "pedestrians_corridor_two_way = []\n",
    "targets_left = rng.uniform(-30,0,2*n_agents_left).reshape(2,n_agents_left)\n",
    "targets_left[1,:] = 3*20 + targets_left[1,:]\n",
    "targets_right =  rng.uniform(80,100,2*n_agents_right).reshape(2,n_agents_right)\n",
    "targets_right[1,:] = -2*20 + targets_right[1,:]\n",
    "targets = np.concatenate([targets_left,targets_right],axis=1)\n",
    "positions_left =  rng.uniform(80,100,2*n_agents_left).reshape(2,n_agents_left)\n",
    "positions_left[1,:] = -2*20 + positions_left[1,:]\n",
    "positions_right = rng.uniform(-30,0,2*n_agents_right).reshape(2,n_agents_right)\n",
    "positions_right[1,:] = 3*20 + positions_right[1,:]\n",
    "positions = np.concatenate([positions_left,positions_right],axis=1)\n",
    "for agent in range(n_agents):\n",
    "    pedestrians_corridor_two_way.append(Pedestrian(steps=steps,position=positions[:,agent],\n",
    "                                  target=targets[:,agent],obstacles=corridor_two_way.obstacles))\n",
    "\n",
    "t0 = time.time()\n",
    "for step in range(steps):\n",
    "    # II Asses position of sororunding pedestrians (obstacles are automatically assesed)\n",
    "    for ped in pedestrians_corridor_two_way: \n",
    "        ped.assess_players(list(filter(lambda x: x != ped, pedestrians_corridor_two_way)))\n",
    "    # I Fix preferred direction\n",
    "    # III Choose optimal step\n",
    "    for ped in pedestrians_corridor_two_way:\n",
    "        ped.walk_theta()\n",
    "print(\"Runtime:\", round(time.time() - t0,2))"
   ]
  },
  {
   "cell_type": "code",
   "execution_count": 4,
   "id": "f5385d44-48f2-4cce-a5fb-22a432ac2660",
   "metadata": {},
   "outputs": [
    {
     "data": {
      "application/vnd.jupyter.widget-view+json": {
       "model_id": "6019b4f069cb456fb3b2740b74d8e9c3",
       "version_major": 2,
       "version_minor": 0
      },
      "text/plain": [
       "interactive(children=(IntSlider(value=2, description='n', max=125, min=2, step=5), Output()), _dom_classes=('w…"
      ]
     },
     "metadata": {},
     "output_type": "display_data"
    }
   ],
   "source": [
    "obstacles_plot = corridor_two_way.obstacles_to_plot()\n",
    "\n",
    "drag = 10\n",
    "size = .2\n",
    "@widgets.interact(n=(2,steps,5))\n",
    "def plot(n=1):\n",
    "    plt.figure(figsize=(5,5), dpi=80)\n",
    "    plt.title(f\"{corridor_two_way.name}:Time: {int(np.floor(n/60))}.{n%60}min\")\n",
    "    #plt.xlim(-20,100)\n",
    "    #plt.ylim(-20,100)\n",
    "    for obstacle_ in obstacles_plot:\n",
    "        plt.scatter(obstacle_[0], obstacle_[1], s=4, label=f\"Barrier\")\n",
    "        plt.gca().set_prop_cycle(None)\n",
    "    for i, ped in enumerate(pedestrians_corridor_two_way):\n",
    "        if i <= n_agents_left:\n",
    "            color = \"r\"\n",
    "        else:\n",
    "            color = \"g\"\n",
    "        plt.scatter(ped.target[0],ped.target[1], s=20, label=f\"{ped}\", color=color)\n",
    "    for i, ped in enumerate(pedestrians_corridor_two_way):\n",
    "        if i <= n_agents_left:\n",
    "            color = \"r\"\n",
    "        else:\n",
    "            color = \"g\"\n",
    "        plt.scatter(ped.history[0,max(1,n-drag):n],ped.history[1,max(1,n-drag):n], s=size, label=f\"{ped}\", color=color)"
   ]
  },
  {
   "cell_type": "code",
   "execution_count": 5,
   "id": "859861a0-fe3a-459c-865d-b9eb08e3f3cd",
   "metadata": {},
   "outputs": [
    {
     "data": {
      "application/vnd.jupyter.widget-view+json": {
       "model_id": "3c29bf08ae8d420f8f97f5f820deae11",
       "version_major": 2,
       "version_minor": 0
      },
      "text/plain": [
       "interactive(children=(IntSlider(value=2, description='n', max=125, min=2, step=5), Output()), _dom_classes=('w…"
      ]
     },
     "metadata": {},
     "output_type": "display_data"
    }
   ],
   "source": [
    "# Flow plot\n",
    "obstacles_plot = corridor_two_way.obstacles_to_plot()\n",
    "\n",
    "drag = steps\n",
    "size = .1\n",
    "@widgets.interact(n=(2,steps,5))\n",
    "def plot(n=1):\n",
    "    plt.figure(figsize=(5,5), dpi=80)\n",
    "    plt.title(f\"{corridor_two_way.name}:Time: {int(np.floor(n/60))}.{n%60}min\")\n",
    "    #plt.xlim(-20,100)\n",
    "    #plt.ylim(-20,100)\n",
    "    for obstacle_ in obstacles_plot:\n",
    "        plt.scatter(obstacle_[0], obstacle_[1], s=4, label=f\"Barrier\")\n",
    "        plt.gca().set_prop_cycle(None)\n",
    "    for i, ped in enumerate(pedestrians_corridor_two_way):\n",
    "        if i <= n_agents_left:\n",
    "            color = \"r\"\n",
    "        else:\n",
    "            color = \"g\"\n",
    "        plt.plot(ped.target[0],ped.target[1], alpha=size, label=f\"{ped}\", color=color)\n",
    "    for i, ped in enumerate(pedestrians_corridor_two_way):\n",
    "        if i <= n_agents_left:\n",
    "            color = \"r\"\n",
    "        else:\n",
    "            color = \"g\"\n",
    "        plt.plot(ped.history[0,max(1,n-drag):n],ped.history[1,max(1,n-drag):n], alpha=size, label=f\"{ped}\", color=color)"
   ]
  },
  {
   "cell_type": "code",
   "execution_count": null,
   "id": "16b36a7f-609d-4fde-bd27-6ea4d39d4fcc",
   "metadata": {},
   "outputs": [],
   "source": []
  }
 ],
 "metadata": {
  "kernelspec": {
   "display_name": "Python 3",
   "language": "python",
   "name": "python3"
  },
  "language_info": {
   "codemirror_mode": {
    "name": "ipython",
    "version": 3
   },
   "file_extension": ".py",
   "mimetype": "text/x-python",
   "name": "python",
   "nbconvert_exporter": "python",
   "pygments_lexer": "ipython3",
   "version": "3.8.10"
  }
 },
 "nbformat": 4,
 "nbformat_minor": 5
}
