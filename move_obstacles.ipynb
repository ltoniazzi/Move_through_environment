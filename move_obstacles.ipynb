{
 "cells": [
  {
   "cell_type": "code",
   "execution_count": 1,
   "id": "a27246fd-4f38-4615-83c4-2d28e54efcf7",
   "metadata": {},
   "outputs": [],
   "source": [
    "import numpy as np\n",
    "from numpy.linalg import norm\n",
    "import scipy as sp\n",
    "import ipywidgets as widgets\n",
    "rng = np.random.default_rng(12345)\n",
    "import matplotlib.pyplot as plt\n",
    "from numba import jit"
   ]
  },
  {
   "cell_type": "code",
   "execution_count": 23,
   "id": "72bc785e-f6b8-4735-9dc8-dfb4cca56b3e",
   "metadata": {},
   "outputs": [],
   "source": [
    "from numpy.linalg import norm\n",
    "from scipy.optimize import minimize\n",
    "\n",
    "\n",
    "class Pedestrian:\n",
    "    \"\"\"Constructs a Pedestrian. Add target for preferred direction.\n",
    "    Also fix direction change billiard style\n",
    "    Parameters\n",
    "    ----------\n",
    "    steps : int, optional\n",
    "            Number of steps the Pedestrian will perform.\n",
    "    speed : float, optional\n",
    "            determines the size of each step of the Pedestrian\n",
    "    \n",
    "    Returns\n",
    "    -------\n",
    "    out :  object\"\"\"\n",
    "    \n",
    "    def __init__(self, steps=20, speed_mu=.6, target=\"Random\",\n",
    "                 position=\"Random\", personal_space=10, obstacles=[[np.zeros(2),np.zeros(2)]]):\n",
    "        self.speed = np.abs(rng.normal(speed_mu,0.15))\n",
    "        if type(target) != np.ndarray:\n",
    "            self.target = np.array([rng.uniform(0,100),rng.uniform(0,100)])\n",
    "        else:\n",
    "            self.target = target\n",
    "        if type(position) != np.ndarray:\n",
    "            self.position = np.array([rng.uniform(0,100),rng.uniform(0,100)])\n",
    "        else:\n",
    "            self.position = position\n",
    "        self.direction = ((self.target - self.position)/norm(self.target - self.position))            \n",
    "        self.direction_outlook = self.direction\n",
    "        self.personal_space = personal_space\n",
    "        self.history = np.zeros(2*(steps+1)).reshape(2,steps+1)\n",
    "        self.current_step = 0\n",
    "        self.obstacles = obstacles\n",
    "    \n",
    "               \n",
    "    \n",
    "    def expected(self):\n",
    "        return self.position + self.speed * self.direction\n",
    "    \n",
    "    \n",
    "    def assess_players(self,other_pedestrians):\n",
    "        assert type(other_pedestrians) == list, \"Pass a list of pedestrians.\"\n",
    "        self.assess_positions = np.zeros(2*len(other_pedestrians)).reshape(2,len(other_pedestrians))\n",
    "        for i, ped in enumerate(other_pedestrians):\n",
    "            self.assess_positions[:,i] = ped.expected() \n",
    "    \n",
    "    def assess_obstacles(self,exp_pos):\n",
    "        #assert type(obstacles) == list, \"Pass a list of obstacles.\"\n",
    "        obstacles = self.obstacles\n",
    "        dist_to_obstacles = 10e7*np.ones(len(obstacles))\n",
    "        #exp_pos = self.position + self.speed * direction\n",
    "        for i , obstacle in enumerate(obstacles):\n",
    "            x = obstacle[0] - exp_pos\n",
    "            y = obstacle[1] - exp_pos\n",
    "            z = self.target - exp_pos\n",
    "            cos_xy = np.round(np.dot(x,y)/(norm(x)*norm(y)),15)\n",
    "            cos_xz = np.round(np.dot(x,z)/(norm(x)*norm(z)),15)\n",
    "            cos_yz = np.round(np.dot(y,z)/(norm(y)*norm(z)),15)  \n",
    "            angle_xy = np.arccos(cos_xy)\n",
    "            angle_xz = np.arccos(cos_xz)\n",
    "            angle_yz = np.arccos(cos_yz)\n",
    "            if (angle_xy >= angle_xz) & (angle_xy >= angle_yz): # next direction towards obstacle\n",
    "                cos_ = np.dot(obstacle[1]-obstacle[0],exp_pos-obstacle[0])/(norm(obstacle[1]-obstacle[0])*norm(exp_pos-obstacle[0]))\n",
    "                dist = (norm(exp_pos-obstacle[0])* np.sqrt(1-cos_**2))\n",
    "                if dist < 20:\n",
    "                    dist_to_obstacles[i] = dist\n",
    "        return 1/dist_to_obstacles\n",
    "            \n",
    "                            \n",
    "                \n",
    "    def walk(self):\n",
    "        preferred = ((self.target - self.position) / norm(self.target - self.position)) \n",
    "        def f(direction):\n",
    "            exp_pos = self.position + self.speed * direction\n",
    "            exp_pos_obs = self.position + 4* self.speed * direction #This might be too long\n",
    "            dissatisfaction = norm(self.assess_positions - exp_pos.reshape(2,1), axis=0)\n",
    "            others_sensitivity, obstacles_sensitivity = 10e1, 10e2\n",
    "            dissatisfaction = others_sensitivity/(.01+dissatisfaction)\n",
    "            dissatisfaction_obs = obstacles_sensitivity*self.assess_obstacles(exp_pos_obs)\n",
    "            inconvenience_f = norm(preferred-direction)**2\n",
    "            return inconvenience_f + np.sum(dissatisfaction**2) + np.sum(dissatisfaction_obs)\n",
    "        self.direction_outlook = minimize(f,self.direction).x\n",
    "        self.position += self.speed * self.direction_outlook\n",
    "        self.current_step += 1\n",
    "        self.history[:,self.current_step] = self.position\n",
    "        self.direction = self.direction_outlook"
   ]
  },
  {
   "cell_type": "code",
   "execution_count": 51,
   "id": "f0479de4-8a12-44bb-a07c-bdb836e6f5ab",
   "metadata": {
    "tags": []
   },
   "outputs": [],
   "source": [
    "steps = int(1000)\n",
    "n_agents = 5\n",
    "pedestrians = []\n",
    "bar_end1 = [np.array([80,25]), np.array([50,75])]\n",
    "bar_end2 = [np.array([5,60]), np.array([45,60])]\n",
    "obstacles = [bar_end1, bar_end2]\n",
    "targets = rng.uniform(0,30,2*n_agents).reshape(2,n_agents)\n",
    "positions = rng.uniform(40,100,2*n_agents).reshape(2,n_agents)\n",
    "for agent in range(n_agents):\n",
    "    pedestrians.append(Pedestrian(steps=steps,position=positions[:,agent],\n",
    "                                  target=targets[:,agent],obstacles=obstacles))\n",
    "\n",
    "for step in range(steps):\n",
    "    for ped in pedestrians:\n",
    "        ped.assess_players(list(filter(lambda x: x != ped, pedestrians)))\n",
    "    for ped in pedestrians:\n",
    "        ped.walk()"
   ]
  },
  {
   "cell_type": "code",
   "execution_count": 52,
   "id": "2b30df4c-f621-421d-863a-3cc595d7bb7a",
   "metadata": {},
   "outputs": [
    {
     "name": "stdout",
     "output_type": "stream",
     "text": [
      "[-30  50]\n",
      "0.8705409696704832\n",
      "[40  0]\n",
      "0.5403023058681398\n",
      "[51. 76.]\n"
     ]
    },
    {
     "data": {
      "application/vnd.jupyter.widget-view+json": {
       "model_id": "a3654b2788a64bf58aae60fe3a60f418",
       "version_major": 2,
       "version_minor": 0
      },
      "text/plain": [
       "interactive(children=(IntSlider(value=2, description='n', max=1000, min=2, step=5), Output()), _dom_classes=('…"
      ]
     },
     "metadata": {},
     "output_type": "display_data"
    }
   ],
   "source": [
    "drag = 30\n",
    "targets = [ped.target for ped in pedestrians]\n",
    "size = 100\n",
    "obstacles_plot = []\n",
    "for obstacle in obstacles:\n",
    "    obs_dir = obstacle[1]-obstacle[0]\n",
    "    L = np.linspace(0,norm(obs_dir),size)\n",
    "    barrier = np.ones(2*size).reshape(2,size)\n",
    "    barrier[:,0] = obstacle[0]\n",
    "    for i, l in enumerate(L):\n",
    "            barrier[0,i] += obstacle[0][0] + l*(np.dot(obs_dir,np.array([1,0]))/norm(obs_dir))\n",
    "            barrier[1,i] += obstacle[0][1] + l*np.sqrt(1-(np.dot(obs_dir,np.array([1,0]))/norm(obs_dir))**2)\n",
    "    obstacles_plot.append(barrier)\n",
    "\n",
    "    \n",
    "\n",
    "@widgets.interact(n=(2,steps,5))\n",
    "def plot(n=1):\n",
    "    plt.figure(figsize=(5,5), dpi=80)\n",
    "    plt.title(f\"Time: {int(np.floor(n/60))}.{n%60}min\")\n",
    "    plt.xlim(-20,100)\n",
    "    plt.ylim(-20,100)\n",
    "    for obstacle_ in obstacles_plot:\n",
    "        plt.scatter(obstacle_[0],obstacle_[1], s=10, label=f\"Barrier\")\n",
    "        plt.gca().set_prop_cycle(None)\n",
    "    for ped in pedestrians:\n",
    "        plt.scatter(ped.target[0],ped.target[1], s=20, label=f\"{ped}\")\n",
    "    plt.gca().set_prop_cycle(None)\n",
    "    for ped in pedestrians:\n",
    "        plt.scatter(ped.history[0,max(1,n-drag):n],ped.history[1,max(1,n-drag):n], s=3, label=f\"{ped}\")"
   ]
  },
  {
   "cell_type": "code",
   "execution_count": null,
   "id": "7f8dee8e-42f9-49ea-805f-3b1ae6f135d1",
   "metadata": {},
   "outputs": [],
   "source": []
  },
  {
   "cell_type": "code",
   "execution_count": 53,
   "id": "8a4a5095-c2d4-4a8f-891e-ee0ebc9db49d",
   "metadata": {},
   "outputs": [
    {
     "name": "stdout",
     "output_type": "stream",
     "text": [
      "0.47295729759556404 0\n",
      "0.7626855393623225 1\n",
      "0.41942600321319023 2\n",
      "0.776779634104509 3\n",
      "0.44540012190198486 4\n"
     ]
    },
    {
     "data": {
      "application/vnd.jupyter.widget-view+json": {
       "model_id": "645c7813248f442ebbb53b7b564d7ee3",
       "version_major": 2,
       "version_minor": 0
      },
      "text/plain": [
       "interactive(children=(IntSlider(value=2, description='n', max=1000, min=2, step=5), Output()), _dom_classes=('…"
      ]
     },
     "metadata": {},
     "output_type": "display_data"
    },
    {
     "data": {
      "image/png": "[encoded data removed]",
      "text/plain": [
       "<Figure size 400x400 with 1 Axes>"
      ]
     },
     "metadata": {
      "needs_background": "light"
     },
     "output_type": "display_data"
    }
   ],
   "source": [
    "for i,ped in enumerate(pedestrians):\n",
    "    if ped.speed > 0:\n",
    "        print(ped.speed, i)\n",
    "\n",
    "ped_n = 8\n",
    "@widgets.interact(n=(2,steps,5))\n",
    "def plot(n=1):\n",
    "    plt.figure(figsize=(5,5), dpi=80)\n",
    "    plt.title(f\"Time: {int(np.floor(n/60))}.{n%60}min\")\n",
    "    plt.xlim(-20,100)\n",
    "    plt.ylim(-20,100)\n",
    "    plt.scatter(barrier[0],barrier[1], s=10, label=f\"Barrier\")\n",
    "    plt.gca().set_prop_cycle(None)\n",
    "    plt.scatter(pedestrians[ped_n].target[0],pedestrians[ped_n].target[1], s=20, label=f\"{ped}\")\n",
    "    plt.gca().set_prop_cycle(None)\n",
    "    plt.scatter(pedestrians[ped_n].history[0,max(1,n-drag):n],pedestrians[ped_n].history[1,max(1,n-drag):n], s=3, label=f\"{ped}\")"
   ]
  },
  {
   "cell_type": "code",
   "execution_count": 6,
   "id": "16e0438f-78f5-4415-b74b-a289beb7238b",
   "metadata": {},
   "outputs": [
    {
     "data": {
      "image/png": "[encoded data removed]",
      "text/plain": [
       "<Figure size 400x400 with 1 Axes>"
      ]
     },
     "metadata": {
      "needs_background": "light"
     },
     "output_type": "display_data"
    }
   ],
   "source": [
    "targets = [ped.target for ped in pedestrians]\n",
    "\n",
    "plt.figure(figsize=(5,5), dpi=80)\n",
    "plt.xlim(0,100)\n",
    "plt.ylim(0,100)\n",
    "for ped in pedestrians:\n",
    "    plt.scatter(ped.target[0],ped.target[1], s=7, label=f\"{ped}\")"
   ]
  },
  {
   "cell_type": "code",
   "execution_count": 7,
   "id": "f6939e06-8787-4d8c-99f9-8611c27143a1",
   "metadata": {},
   "outputs": [
    {
     "name": "stdout",
     "output_type": "stream",
     "text": [
      "[0.33495182] 0.6650481805579304\n"
     ]
    },
    {
     "data": {
      "text/plain": [
       "<matplotlib.collections.PathCollection at 0x7fbf3d1a0790>"
      ]
     },
     "execution_count": 7,
     "metadata": {},
     "output_type": "execute_result"
    },
    {
     "data": {
      "image/png": "[encoded data removed]",
      "text/plain": [
       "<Figure size 432x288 with 1 Axes>"
      ]
     },
     "metadata": {
      "needs_background": "light"
     },
     "output_type": "display_data"
    }
   ],
   "source": [
    "#Geometry   \"\"\"Introduce statistics collector, geometry time step.\"\"\"\n",
    "target = np.array([75,75])\n",
    "position = np.array([49,75])\n",
    "bar_ends = [np.array([50,25]), np.array([50,75])]\n",
    "\n",
    "ped = Pedestrian(position=position,target=target,obstacles=[bar_ends])\n",
    "direction = np.array([1,0])\n",
    "\n",
    "exp_pos = ped.position+ped.speed * ped.direction\n",
    "\n",
    "print(1/ped.assess_obstacles(exp_pos), ped.speed)\n",
    "plot_me = np.concatenate([ped.target.reshape(2,1),ped.position.reshape(2,1), \n",
    "                          exp_pos.reshape(2,1), \n",
    "                         bar_ends[0].reshape(2,1) , bar_ends[1].reshape(2,1)], axis=1)\n",
    "plt.scatter(plot_me[0,:],plot_me[1:])"
   ]
  },
  {
   "cell_type": "code",
   "execution_count": 8,
   "id": "4d196326-ea53-4eb4-8354-5443d1dfcb1c",
   "metadata": {},
   "outputs": [
    {
     "data": {
      "application/vnd.jupyter.widget-view+json": {
       "model_id": "a81b227dc1714bf6a155476380087c10",
       "version_major": 2,
       "version_minor": 0
      },
      "text/plain": [
       "interactive(children=(IntSlider(value=1, description='n', max=333, min=1, step=10), Output()), _dom_classes=('…"
      ]
     },
     "metadata": {},
     "output_type": "display_data"
    }
   ],
   "source": [
    "@widgets.interact(n=(1,steps,10))\n",
    "def plot(n=1):\n",
    "    plt.figure(figsize=(5,5), dpi=80)\n",
    "    plt.xlim(0,100)\n",
    "    plt.ylim(0,100)\n",
    "    for ped in pedestrians:\n",
    "        plt.scatter(ped.history[0,n],ped.history[1,n], s=3, label=f\"{ped}\")"
   ]
  },
  {
   "cell_type": "code",
   "execution_count": null,
   "id": "f264bd4f-5bcc-4dfd-a35a-a9824beb8214",
   "metadata": {},
   "outputs": [],
   "source": []
  },
  {
   "cell_type": "code",
   "execution_count": 9,
   "id": "903cbae6-3a25-4c31-a9f0-8252a622b87d",
   "metadata": {},
   "outputs": [
    {
     "data": {
      "text/plain": [
       "\u001b[0;31mCall signature:\u001b[0m  \u001b[0mnp\u001b[0m\u001b[0;34m.\u001b[0m\u001b[0marccos\u001b[0m\u001b[0;34m(\u001b[0m\u001b[0;34m*\u001b[0m\u001b[0margs\u001b[0m\u001b[0;34m,\u001b[0m \u001b[0;34m**\u001b[0m\u001b[0mkwargs\u001b[0m\u001b[0;34m)\u001b[0m\u001b[0;34m\u001b[0m\u001b[0;34m\u001b[0m\u001b[0m\n",
       "\u001b[0;31mType:\u001b[0m            ufunc\n",
       "\u001b[0;31mString form:\u001b[0m     <ufunc 'arccos'>\n",
       "\u001b[0;31mFile:\u001b[0m            ~/miniconda3/envs/tf/lib/python3.8/site-packages/numpy/__init__.py\n",
       "\u001b[0;31mDocstring:\u001b[0m      \n",
       "arccos(x, /, out=None, *, where=True, casting='same_kind', order='K', dtype=None, subok=True[, signature, extobj])\n",
       "\n",
       "Trigonometric inverse cosine, element-wise.\n",
       "\n",
       "The inverse of `cos` so that, if ``y = cos(x)``, then ``x = arccos(y)``.\n",
       "\n",
       "Parameters\n",
       "----------\n",
       "x : array_like\n",
       "    `x`-coordinate on the unit circle.\n",
       "    For real arguments, the domain is [-1, 1].\n",
       "out : ndarray, None, or tuple of ndarray and None, optional\n",
       "    A location into which the result is stored. If provided, it must have\n",
       "    a shape that the inputs broadcast to. If not provided or None,\n",
       "    a freshly-allocated array is returned. A tuple (possible only as a\n",
       "    keyword argument) must have length equal to the number of outputs.\n",
       "where : array_like, optional\n",
       "    This condition is broadcast over the input. At locations where the\n",
       "    condition is True, the `out` array will be set to the ufunc result.\n",
       "    Elsewhere, the `out` array will retain its original value.\n",
       "    Note that if an uninitialized `out` array is created via the default\n",
       "    ``out=None``, locations within it where the condition is False will\n",
       "    remain uninitialized.\n",
       "**kwargs\n",
       "    For other keyword-only arguments, see the\n",
       "    :ref:`ufunc docs <ufuncs.kwargs>`.\n",
       "\n",
       "Returns\n",
       "-------\n",
       "angle : ndarray\n",
       "    The angle of the ray intersecting the unit circle at the given\n",
       "    `x`-coordinate in radians [0, pi].\n",
       "    This is a scalar if `x` is a scalar.\n",
       "\n",
       "See Also\n",
       "--------\n",
       "cos, arctan, arcsin, emath.arccos\n",
       "\n",
       "Notes\n",
       "-----\n",
       "`arccos` is a multivalued function: for each `x` there are infinitely\n",
       "many numbers `z` such that `cos(z) = x`. The convention is to return\n",
       "the angle `z` whose real part lies in `[0, pi]`.\n",
       "\n",
       "For real-valued input data types, `arccos` always returns real output.\n",
       "For each value that cannot be expressed as a real number or infinity,\n",
       "it yields ``nan`` and sets the `invalid` floating point error flag.\n",
       "\n",
       "For complex-valued input, `arccos` is a complex analytic function that\n",
       "has branch cuts `[-inf, -1]` and `[1, inf]` and is continuous from\n",
       "above on the former and from below on the latter.\n",
       "\n",
       "The inverse `cos` is also known as `acos` or cos^-1.\n",
       "\n",
       "References\n",
       "----------\n",
       "M. Abramowitz and I.A. Stegun, \"Handbook of Mathematical Functions\",\n",
       "10th printing, 1964, pp. 79. http://www.math.sfu.ca/~cbm/aands/\n",
       "\n",
       "Examples\n",
       "--------\n",
       "We expect the arccos of 1 to be 0, and of -1 to be pi:\n",
       "\n",
       ">>> np.arccos([1, -1])\n",
       "array([ 0.        ,  3.14159265])\n",
       "\n",
       "Plot arccos:\n",
       "\n",
       ">>> import matplotlib.pyplot as plt\n",
       ">>> x = np.linspace(-1, 1, num=100)\n",
       ">>> plt.plot(x, np.arccos(x))\n",
       ">>> plt.axis('tight')\n",
       ">>> plt.show()\n",
       "\u001b[0;31mClass docstring:\u001b[0m\n",
       "Functions that operate element by element on whole arrays.\n",
       "\n",
       "To see the documentation for a specific ufunc, use `info`.  For\n",
       "example, ``np.info(np.sin)``.  Because ufuncs are written in C\n",
       "(for speed) and linked into Python with NumPy's ufunc facility,\n",
       "Python's help() function finds this page whenever help() is called\n",
       "on a ufunc.\n",
       "\n",
       "A detailed explanation of ufuncs can be found in the docs for :ref:`ufuncs`.\n",
       "\n",
       "**Calling ufuncs:** ``op(*x[, out], where=True, **kwargs)``\n",
       "\n",
       "Apply `op` to the arguments `*x` elementwise, broadcasting the arguments.\n",
       "\n",
       "The broadcasting rules are:\n",
       "\n",
       "* Dimensions of length 1 may be prepended to either array.\n",
       "* Arrays may be repeated along dimensions of length 1.\n",
       "\n",
       "Parameters\n",
       "----------\n",
       "*x : array_like\n",
       "    Input arrays.\n",
       "out : ndarray, None, or tuple of ndarray and None, optional\n",
       "    Alternate array object(s) in which to put the result; if provided, it\n",
       "    must have a shape that the inputs broadcast to. A tuple of arrays\n",
       "    (possible only as a keyword argument) must have length equal to the\n",
       "    number of outputs; use None for uninitialized outputs to be\n",
       "    allocated by the ufunc.\n",
       "where : array_like, optional\n",
       "    This condition is broadcast over the input. At locations where the\n",
       "    condition is True, the `out` array will be set to the ufunc result.\n",
       "    Elsewhere, the `out` array will retain its original value.\n",
       "    Note that if an uninitialized `out` array is created via the default\n",
       "    ``out=None``, locations within it where the condition is False will\n",
       "    remain uninitialized.\n",
       "**kwargs\n",
       "    For other keyword-only arguments, see the :ref:`ufunc docs <ufuncs.kwargs>`.\n",
       "\n",
       "Returns\n",
       "-------\n",
       "r : ndarray or tuple of ndarray\n",
       "    `r` will have the shape that the arrays in `x` broadcast to; if `out` is\n",
       "    provided, it will be returned. If not, `r` will be allocated and\n",
       "    may contain uninitialized values. If the function has more than one\n",
       "    output, then the result will be a tuple of arrays.\n"
      ]
     },
     "metadata": {},
     "output_type": "display_data"
    }
   ],
   "source": [
    "np.arccos??"
   ]
  },
  {
   "cell_type": "code",
   "execution_count": 10,
   "id": "df44c5cc-d3a8-4a5d-b31a-88e40a602202",
   "metadata": {},
   "outputs": [
    {
     "ename": "NameError",
     "evalue": "name 'ped1' is not defined",
     "output_type": "error",
     "traceback": [
      "\u001b[0;31m---------------------------------------------------------------------------\u001b[0m",
      "\u001b[0;31mNameError\u001b[0m                                 Traceback (most recent call last)",
      "\u001b[0;32m<ipython-input-10-62c414fea910>\u001b[0m in \u001b[0;36m<module>\u001b[0;34m\u001b[0m\n\u001b[1;32m      1\u001b[0m \u001b[0mn\u001b[0m\u001b[0;34m=\u001b[0m\u001b[0;36m908\u001b[0m\u001b[0;34m\u001b[0m\u001b[0;34m\u001b[0m\u001b[0m\n\u001b[0;32m----> 2\u001b[0;31m \u001b[0mnorm\u001b[0m\u001b[0;34m(\u001b[0m\u001b[0mped1\u001b[0m\u001b[0;34m.\u001b[0m\u001b[0mhistory\u001b[0m\u001b[0;34m[\u001b[0m\u001b[0;34m:\u001b[0m\u001b[0;34m,\u001b[0m\u001b[0mn\u001b[0m\u001b[0;34m]\u001b[0m\u001b[0;34m-\u001b[0m\u001b[0mped2\u001b[0m\u001b[0;34m.\u001b[0m\u001b[0mhistory\u001b[0m\u001b[0;34m[\u001b[0m\u001b[0;34m:\u001b[0m\u001b[0;34m,\u001b[0m\u001b[0mn\u001b[0m\u001b[0;34m]\u001b[0m\u001b[0;34m)\u001b[0m\u001b[0;34m,\u001b[0m\u001b[0mped2\u001b[0m\u001b[0;34m.\u001b[0m\u001b[0mhistory\u001b[0m\u001b[0;34m[\u001b[0m\u001b[0;34m:\u001b[0m\u001b[0;34m,\u001b[0m\u001b[0mn\u001b[0m\u001b[0;34m]\u001b[0m\u001b[0;34m,\u001b[0m \u001b[0mped1\u001b[0m\u001b[0;34m.\u001b[0m\u001b[0mhistory\u001b[0m\u001b[0;34m[\u001b[0m\u001b[0;34m:\u001b[0m\u001b[0;34m,\u001b[0m\u001b[0mn\u001b[0m\u001b[0;34m]\u001b[0m\u001b[0;34m\u001b[0m\u001b[0;34m\u001b[0m\u001b[0m\n\u001b[0m",
      "\u001b[0;31mNameError\u001b[0m: name 'ped1' is not defined"
     ]
    }
   ],
   "source": [
    "n=908\n",
    "norm(ped1.history[:,n]-ped2.history[:,n]),ped2.history[:,n], ped1.history[:,n]"
   ]
  },
  {
   "cell_type": "code",
   "execution_count": null,
   "id": "fa3919f2-e0e3-46c1-90b6-e7477f829d0f",
   "metadata": {},
   "outputs": [],
   "source": [
    "ped1.history.shape"
   ]
  },
  {
   "cell_type": "code",
   "execution_count": null,
   "id": "7bab500e-f515-4150-9e90-4f8b1923ab4b",
   "metadata": {},
   "outputs": [],
   "source": [
    "#plt.scatter(ped.history[0,:],ped.history[1,:])\n",
    "\n",
    "ped.direction\n",
    "#ped.barrier()\n",
    "print(ped.walk())"
   ]
  },
  {
   "cell_type": "code",
   "execution_count": null,
   "id": "de7c54b1-ca24-40f5-9d84-2ed4cfbda719",
   "metadata": {},
   "outputs": [],
   "source": []
  },
  {
   "cell_type": "code",
   "execution_count": null,
   "id": "85ab8c7f-b5f3-43e2-94ad-1bcd0752ccae",
   "metadata": {},
   "outputs": [],
   "source": [
    "preferred = np.array([1,0])\n",
    "def f(direction):\n",
    "    return norm(preferred-direction)**2\n",
    "x0 = np.array([-1,0])\n",
    "minimize(f, x0).x\n"
   ]
  },
  {
   "cell_type": "code",
   "execution_count": null,
   "id": "829bd897-493d-451d-862b-246f042f6c97",
   "metadata": {},
   "outputs": [],
   "source": [
    "# Use networkx defining station as a conencted graph and 1/0 for pepole in spot,\n",
    "# probably best approach"
   ]
  },
  {
   "cell_type": "code",
   "execution_count": null,
   "id": "619e19a3-d646-43e9-a540-25d1e90df8d5",
   "metadata": {},
   "outputs": [],
   "source": [
    "class Station:\n",
    "    \"\"\"Not used yet.\"\"\"\n",
    "    def __init__(self, size=100):\n",
    "        self.station = np.array(size*size).reshape(size,size)\n",
    "\n",
    "    \n",
    "    def barrier(self):\n",
    "        return self.barrier_e, self.barrier_w,  self.barrier_s, self.barrier_n\n",
    "        "
   ]
  },
  {
   "cell_type": "code",
   "execution_count": null,
   "id": "98fc5a69-eb5d-47f6-86d9-403458d66e9c",
   "metadata": {},
   "outputs": [],
   "source": []
  },
  {
   "cell_type": "code",
   "execution_count": null,
   "id": "a0a483b2-c10f-4486-af66-5a4783646c1e",
   "metadata": {},
   "outputs": [],
   "source": [
    "from numpy.linalg import norm\n",
    "\n",
    "class Pedestrian:\n",
    "    \"\"\"Constructs a Pedestrian. Add target for preferred direction.\n",
    "    Also fix direction change billiard style\n",
    "    Parameters\n",
    "    ----------\n",
    "    steps : int, optional\n",
    "            Number of steps the Pedestrian will perform.\n",
    "    speed : float, optional\n",
    "            determines the size of each step of the Pedestrian\n",
    "    \n",
    "    Returns\n",
    "    -------\n",
    "    out :  object\"\"\"\n",
    "    \n",
    "    def __init__(self, steps=20, speed=1, target=\"No target\", position=\"Random start\",\n",
    "                 personal_space=10):\n",
    "        self.rush = np.abs(rng.standard_normal()) # Not used\n",
    "        self.speed = speed\n",
    "        if type(position) != np.ndarray:\n",
    "            self.position = 30 + 50*rng.standard_normal(2)\n",
    "        else:\n",
    "            self.position = position\n",
    "        if type(target) != np.ndarray:\n",
    "            self.direction = np.array([np.cos(rng.standard_normal()), \n",
    "                                   np.sin(rng.standard_normal())])\n",
    "        else:\n",
    "            self.target = target\n",
    "            self.direction = ((self.target - self.position)/\n",
    "                               norm(self.target - self.position))            \n",
    "        self.direction_outlook = self.direction\n",
    "        self.personal_space = personal_space\n",
    "        self.history = np.zeros(2*(steps+1)).reshape(2,steps+1)\n",
    "        self.current_step = 0\n",
    "        \n",
    "    \n",
    "        \n",
    "    def _interaction(self):\n",
    "        self.speed = self.speed\n",
    "        self.direction_outlook = np.array([np.cos(rng.standard_normal()), \n",
    "                                           np.sin(rng.standard_normal())])\n",
    "        \n",
    "    \n",
    "    def assess_barrier(self,barrier_e,barrier_w,barrier_s,barrier_n):\n",
    "        if self.position[0] < barrier_e:\n",
    "            self._interaction()\n",
    "            self.direction_outlook[0] = np.abs(self.direction_outlook[0])\n",
    "        if self.position[0] > barrier_w:\n",
    "            self._interaction()\n",
    "            self.direction_outlook[0] = -np.abs(self.direction_outlook[0])       \n",
    "        if self.position[1] < barrier_s:\n",
    "            self._interaction()\n",
    "            self.direction_outlook[1] = np.abs(self.direction_outlook[1])\n",
    "        if self.position[1] > barrier_n:\n",
    "            self._interaction()\n",
    "            self.direction_outlook[1] = -np.abs(self.direction_outlook[1])\n",
    "    \n",
    "    def expected(self):\n",
    "        return self.position + self.speed * self.direction\n",
    "    \n",
    "    def assess_players(self,other_pedestrians):\n",
    "        assert type(other_pedestrians) == list, \"Pass a list of pedestrians.\"\n",
    "        assess_positions = []\n",
    "        for ped in other_pedestrians:\n",
    "            assess_positions.append(ped.expected())\n",
    "        \n",
    "    \n",
    "            \n",
    "            \n",
    "            \n",
    "            if norm(self.position - ped.position) < self.personal_space:\n",
    "                toss_coin = rng.choice([0,1])\n",
    "                if toss_coin != 0: # 50% change of interaction\n",
    "                    self.direction_outlook[0] = ped.direction[0]\n",
    "                    self.direction_outlook[1] = ped.direction[1]\n",
    "                    \n",
    "                    '''# Copy direction of neighbours\n",
    "                    self.direction_outlook[0] = ped.direction[0]\n",
    "                    self.direction_outlook[1] = ped.direction[1]\n",
    "                    self.direction_outlook[0] = - ped.direction[1]\n",
    "                    self.direction_outlook[1] = ped.direction[0]'''\n",
    "                \n",
    "    def walk(self):\n",
    "        self.position += self.speed * self.direction_outlook\n",
    "        self.current_step += 1\n",
    "        self.history[:,self.current_step] = self.position\n",
    "        self.direction = self.direction_outlook"
   ]
  },
  {
   "cell_type": "code",
   "execution_count": null,
   "id": "1ccd424a-58ab-42a5-ac3b-c3df8daee068",
   "metadata": {},
   "outputs": [],
   "source": [
    "x = np.arange(2*10).reshape(2,10)\n",
    "y = np.array([1,1])\n",
    "x, x-y.reshape(2,1)\n",
    "\n",
    "this = x-y.reshape(2,1)\n",
    "this, 1/(1+norm(this, axis = 0))"
   ]
  },
  {
   "cell_type": "code",
   "execution_count": null,
   "id": "83f0b250-619c-4a36-8584-826de0380e98",
   "metadata": {},
   "outputs": [],
   "source": []
  }
 ],
 "metadata": {
  "kernelspec": {
   "display_name": "Python 3",
   "language": "python",
   "name": "python3"
  },
  "language_info": {
   "codemirror_mode": {
    "name": "ipython",
    "version": 3
   },
   "file_extension": ".py",
   "mimetype": "text/x-python",
   "name": "python",
   "nbconvert_exporter": "python",
   "pygments_lexer": "ipython3",
   "version": "3.8.10"
  }
 },
 "nbformat": 4,
 "nbformat_minor": 5
}
