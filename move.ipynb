{
 "cells": [
  {
   "cell_type": "code",
   "execution_count": 1,
   "id": "a27246fd-4f38-4615-83c4-2d28e54efcf7",
   "metadata": {},
   "outputs": [],
   "source": [
    "import numpy as np\n",
    "from numpy.linalg import norm\n",
    "import scipy as sp\n",
    "import ipywidgets as widgets\n",
    "rng = np.random.default_rng(12345)\n",
    "import matplotlib.pyplot as plt"
   ]
  },
  {
   "cell_type": "code",
   "execution_count": 222,
   "id": "72bc785e-f6b8-4735-9dc8-dfb4cca56b3e",
   "metadata": {},
   "outputs": [],
   "source": [
    "from numpy.linalg import norm\n",
    "from scipy.optimize import minimize\n",
    "\n",
    "\n",
    "class Pedestrian:\n",
    "    \"\"\"Constructs a Pedestrian. Add target for preferred direction.\n",
    "    Also fix direction change billiard style\n",
    "    Parameters\n",
    "    ----------\n",
    "    steps : int, optional\n",
    "            Number of steps the Pedestrian will perform.\n",
    "    speed : float, optional\n",
    "            determines the size of each step of the Pedestrian\n",
    "    \n",
    "    Returns\n",
    "    -------\n",
    "    out :  object\"\"\"\n",
    "    \n",
    "    def __init__(self, steps=20, speed=1, target=\"Random\",\n",
    "                 position=\"Random\", personal_space=10):\n",
    "        self.speed = speed\n",
    "        if type(target) != np.ndarray:\n",
    "            self.target = np.array([rng.uniform(0,100),rng.uniform(0,100)])\n",
    "        else:\n",
    "            self.target = target\n",
    "        if type(position) != np.ndarray:\n",
    "            self.position = np.array([rng.uniform(0,100),rng.uniform(0,100)])\n",
    "        else:\n",
    "            self.position = position\n",
    "        self.direction = ((self.target - self.position)/norm(self.target - self.position))            \n",
    "        self.direction_outlook = self.direction\n",
    "        self.personal_space = personal_space\n",
    "        self.history = np.zeros(2*(steps+1)).reshape(2,steps+1)\n",
    "        self.current_step = 0\n",
    "    \n",
    "               \n",
    "    \n",
    "    def expected(self):\n",
    "        return self.position + self.speed * self.direction\n",
    "    \n",
    "    def assess_players(self,other_pedestrians):\n",
    "        assert type(other_pedestrians) == list, \"Pass a list of pedestrians.\"\n",
    "        self.assess_positions = np.zeros(2*len(other_pedestrians)).reshape(2,len(other_pedestrians))\n",
    "        for i, ped in enumerate(other_pedestrians):\n",
    "            self.assess_positions[:,i] = ped.expected()          \n",
    "            \n",
    "                \n",
    "    def walk(self):\n",
    "        preferred = ((self.target - self.position)/\n",
    "                           norm(self.target - self.position)) \n",
    "        def f(direction):\n",
    "            exp_pos = self.position + self.speed * direction\n",
    "            dissatisfaction = norm(self.assess_positions - exp_pos.reshape(2,1), axis=0)\n",
    "            others_sensitivity = 10e1/2\n",
    "            dissatisfaction = others_sensitivity/(.01+dissatisfaction)\n",
    "            return norm(preferred-direction)**2 + np.sum(dissatisfaction**2)\n",
    "        self.direction_outlook = minimize(f,self.direction).x\n",
    "        self.position += self.speed * self.direction_outlook\n",
    "        self.current_step += 1\n",
    "        self.history[:,self.current_step] = self.position\n",
    "        self.direction = self.direction_outlook"
   ]
  },
  {
   "cell_type": "code",
   "execution_count": 218,
   "id": "eb90e4b9-83a8-4cb6-9933-318f7ae8d9dd",
   "metadata": {},
   "outputs": [
    {
     "data": {
      "text/plain": [
       "array([-0.52576697, -0.85062864])"
      ]
     },
     "execution_count": 218,
     "metadata": {},
     "output_type": "execute_result"
    }
   ],
   "source": [
    "x = np.array([rng.uniform(0,100),rng.uniform(0,100)])\n",
    "y= np.array([rng.uniform(0,100),rng.uniform(0,100)])\n",
    "(x-y)/norm((x-y))\n",
    "\"\"\"Introduce statistics collector.\"\"\""
   ]
  },
  {
   "cell_type": "code",
   "execution_count": 232,
   "id": "f0479de4-8a12-44bb-a07c-bdb836e6f5ab",
   "metadata": {},
   "outputs": [],
   "source": [
    "steps = int(1000/2)\n",
    "n_agents = 15\n",
    "target = 100 * np.ones(2).reshape(2,)\n",
    "pedestrians = []\n",
    "targets = rng.uniform(0,30,2*n_agents).reshape(2,n_agents)\n",
    "for agent in range(n_agents):\n",
    "    #pedestrians.append(Pedestrian(steps=steps))\n",
    "    pedestrians.append(Pedestrian(steps=steps, target=targets[:,agent]))\n",
    "\n",
    "bar = 100\n",
    "barriers = 0, bar, 0, bar\n",
    "\n",
    "for step in range(steps):\n",
    "    for ped in pedestrians:\n",
    "        ped.assess_players(list(filter(lambda x: x != ped, pedestrians)))\n",
    "    for ped in pedestrians:\n",
    "        ped.walk()"
   ]
  },
  {
   "cell_type": "code",
   "execution_count": 236,
   "id": "2b30df4c-f621-421d-863a-3cc595d7bb7a",
   "metadata": {},
   "outputs": [
    {
     "data": {
      "application/vnd.jupyter.widget-view+json": {
       "model_id": "ffb699788e954bdbb1c5b3fdbfab4931",
       "version_major": 2,
       "version_minor": 0
      },
      "text/plain": [
       "interactive(children=(IntSlider(value=2, description='n', max=500, min=2, step=5), Output()), _dom_classes=('w…"
      ]
     },
     "metadata": {},
     "output_type": "display_data"
    }
   ],
   "source": [
    "drag = 30\n",
    "targets = [ped.target for ped in pedestrians]\n",
    "@widgets.interact(n=(2,steps,5))\n",
    "def plot(n=1):\n",
    "    plt.figure(figsize=(5,5), dpi=80)\n",
    "    plt.xlim(-20,100)\n",
    "    plt.ylim(-20,100)\n",
    "    for ped in pedestrians:\n",
    "        plt.scatter(ped.target[0],ped.target[1], s=20, label=f\"{ped}\")\n",
    "    plt.gca().set_prop_cycle(None)\n",
    "    for ped in pedestrians:\n",
    "        plt.scatter(ped.history[0,max(1,n-drag):n],ped.history[1,max(1,n-drag):n], s=3, label=f\"{ped}\")"
   ]
  },
  {
   "cell_type": "code",
   "execution_count": 206,
   "id": "16e0438f-78f5-4415-b74b-a289beb7238b",
   "metadata": {},
   "outputs": [
    {
     "data": {
      "text/plain": [
       "([array([29.84329834, 11.00637462]),\n",
       "  array([46.23398173, 71.18660014]),\n",
       "  array([81.46758403, 65.43240296]),\n",
       "  array([31.98685405, 97.47709686]),\n",
       "  array([41.18418413, 50.01391843]),\n",
       "  array([52.20025121, 36.04297182]),\n",
       "  array([98.82262461, 71.12603886]),\n",
       "  array([47.91492569, 61.51598179]),\n",
       "  array([28.43539773, 99.99942005]),\n",
       "  array([95.4345096 , 34.75989903])],\n",
       " array([95.4345096 , 34.75989903]))"
      ]
     },
     "execution_count": 206,
     "metadata": {},
     "output_type": "execute_result"
    },
    {
     "data": {
      "image/png": "[encoded data removed]",
      "text/plain": [
       "<Figure size 400x400 with 1 Axes>"
      ]
     },
     "metadata": {
      "needs_background": "light"
     },
     "output_type": "display_data"
    }
   ],
   "source": [
    "targets = [ped.target for ped in pedestrians]\n",
    "plt.figure(figsize=(5,5), dpi=80)\n",
    "plt.xlim(0,100)\n",
    "plt.ylim(0,100)\n",
    "for ped in pedestrians:\n",
    "    plt.scatter(ped.target[0],ped.target[1], s=7, label=f\"{ped}\")"
   ]
  },
  {
   "cell_type": "code",
   "execution_count": 55,
   "id": "4d196326-ea53-4eb4-8354-5443d1dfcb1c",
   "metadata": {},
   "outputs": [
    {
     "data": {
      "application/vnd.jupyter.widget-view+json": {
       "model_id": "2b7eab4e713b452b8c4473630d27a1df",
       "version_major": 2,
       "version_minor": 0
      },
      "text/plain": [
       "interactive(children=(IntSlider(value=1, description='n', max=1000, min=1, step=10), Output()), _dom_classes=(…"
      ]
     },
     "metadata": {},
     "output_type": "display_data"
    }
   ],
   "source": [
    "@widgets.interact(n=(1,steps,10))\n",
    "def plot(n=1):\n",
    "    plt.figure(figsize=(5,5), dpi=80)\n",
    "    plt.xlim(0,100)\n",
    "    plt.ylim(0,100)\n",
    "    for ped in pedestrians:\n",
    "        plt.scatter(ped.history[0,n],ped.history[1,n], s=3, label=f\"{ped}\")"
   ]
  },
  {
   "cell_type": "code",
   "execution_count": 26,
   "id": "f264bd4f-5bcc-4dfd-a35a-a9824beb8214",
   "metadata": {},
   "outputs": [
    {
     "data": {
      "text/plain": [
       "'Constructs a Pedestrian. Add target for preferred direction.\\n    Parameters\\n    ----------\\n    steps : int, optional\\n            Number of steps the Pedestrian will perform.\\n    speed : float, optional\\n            determines the size of each step of the Pedestrian\\n    \\n    Returns\\n    -------\\n    out :  a pedestrian object.'"
      ]
     },
     "execution_count": 26,
     "metadata": {},
     "output_type": "execute_result"
    }
   ],
   "source": []
  },
  {
   "cell_type": "code",
   "execution_count": null,
   "id": "903cbae6-3a25-4c31-a9f0-8252a622b87d",
   "metadata": {},
   "outputs": [],
   "source": [
    "norm(ped1.position - ped2.position)\n",
    "\n",
    "ped2.speed * ped2.direction\n",
    "x = ped2.history \n",
    "x -=  -0.62330191 \n",
    "x\n",
    "li = [1,3,4,1,5]\n",
    "filter(lambda x: x != 1, li).to_list"
   ]
  },
  {
   "cell_type": "code",
   "execution_count": null,
   "id": "df44c5cc-d3a8-4a5d-b31a-88e40a602202",
   "metadata": {},
   "outputs": [],
   "source": [
    "n=908\n",
    "norm(ped1.history[:,n]-ped2.history[:,n]),ped2.history[:,n], ped1.history[:,n]"
   ]
  },
  {
   "cell_type": "code",
   "execution_count": null,
   "id": "fa3919f2-e0e3-46c1-90b6-e7477f829d0f",
   "metadata": {},
   "outputs": [],
   "source": [
    "ped1.history.shape"
   ]
  },
  {
   "cell_type": "code",
   "execution_count": null,
   "id": "7bab500e-f515-4150-9e90-4f8b1923ab4b",
   "metadata": {},
   "outputs": [],
   "source": [
    "#plt.scatter(ped.history[0,:],ped.history[1,:])\n",
    "\n",
    "ped.direction\n",
    "#ped.barrier()\n",
    "print(ped.walk())"
   ]
  },
  {
   "cell_type": "code",
   "execution_count": null,
   "id": "de7c54b1-ca24-40f5-9d84-2ed4cfbda719",
   "metadata": {},
   "outputs": [],
   "source": []
  },
  {
   "cell_type": "code",
   "execution_count": 114,
   "id": "85ab8c7f-b5f3-43e2-94ad-1bcd0752ccae",
   "metadata": {},
   "outputs": [
    {
     "data": {
      "text/plain": [
       "array([ 9.99999982e-01, -2.95072496e-08])"
      ]
     },
     "execution_count": 114,
     "metadata": {},
     "output_type": "execute_result"
    }
   ],
   "source": [
    "preferred = np.array([1,0])\n",
    "def f(direction):\n",
    "    return norm(preferred-direction)**2\n",
    "x0 = np.array([-1,0])\n",
    "minimize(f, x0).x\n"
   ]
  },
  {
   "cell_type": "code",
   "execution_count": null,
   "id": "829bd897-493d-451d-862b-246f042f6c97",
   "metadata": {},
   "outputs": [],
   "source": [
    "# Use networkx defining station as a conencted graph and 1/0 for pepole in spot,\n",
    "# probably best approach"
   ]
  },
  {
   "cell_type": "code",
   "execution_count": null,
   "id": "619e19a3-d646-43e9-a540-25d1e90df8d5",
   "metadata": {},
   "outputs": [],
   "source": [
    "class Station:\n",
    "    \"\"\"Not used yet.\"\"\"\n",
    "    def __init__(self, size=100):\n",
    "        self.station = np.array(size*size).reshape(size,size)\n",
    "\n",
    "    \n",
    "    def barrier(self):\n",
    "        return self.barrier_e, self.barrier_w,  self.barrier_s, self.barrier_n\n",
    "        "
   ]
  },
  {
   "cell_type": "code",
   "execution_count": null,
   "id": "98fc5a69-eb5d-47f6-86d9-403458d66e9c",
   "metadata": {},
   "outputs": [],
   "source": []
  },
  {
   "cell_type": "code",
   "execution_count": 94,
   "id": "a0a483b2-c10f-4486-af66-5a4783646c1e",
   "metadata": {},
   "outputs": [],
   "source": [
    "from numpy.linalg import norm\n",
    "\n",
    "class Pedestrian:\n",
    "    \"\"\"Constructs a Pedestrian. Add target for preferred direction.\n",
    "    Also fix direction change billiard style\n",
    "    Parameters\n",
    "    ----------\n",
    "    steps : int, optional\n",
    "            Number of steps the Pedestrian will perform.\n",
    "    speed : float, optional\n",
    "            determines the size of each step of the Pedestrian\n",
    "    \n",
    "    Returns\n",
    "    -------\n",
    "    out :  object\"\"\"\n",
    "    \n",
    "    def __init__(self, steps=20, speed=1, target=\"No target\", position=\"Random start\",\n",
    "                 personal_space=10):\n",
    "        self.rush = np.abs(rng.standard_normal()) # Not used\n",
    "        self.speed = speed\n",
    "        if type(position) != np.ndarray:\n",
    "            self.position = 30 + 50*rng.standard_normal(2)\n",
    "        else:\n",
    "            self.position = position\n",
    "        if type(target) != np.ndarray:\n",
    "            self.direction = np.array([np.cos(rng.standard_normal()), \n",
    "                                   np.sin(rng.standard_normal())])\n",
    "        else:\n",
    "            self.target = target\n",
    "            self.direction = ((self.target - self.position)/\n",
    "                               norm(self.target - self.position))            \n",
    "        self.direction_outlook = self.direction\n",
    "        self.personal_space = personal_space\n",
    "        self.history = np.zeros(2*(steps+1)).reshape(2,steps+1)\n",
    "        self.current_step = 0\n",
    "        \n",
    "    \n",
    "        \n",
    "    def _interaction(self):\n",
    "        self.speed = self.speed\n",
    "        self.direction_outlook = np.array([np.cos(rng.standard_normal()), \n",
    "                                           np.sin(rng.standard_normal())])\n",
    "        \n",
    "    \n",
    "    def assess_barrier(self,barrier_e,barrier_w,barrier_s,barrier_n):\n",
    "        if self.position[0] < barrier_e:\n",
    "            self._interaction()\n",
    "            self.direction_outlook[0] = np.abs(self.direction_outlook[0])\n",
    "        if self.position[0] > barrier_w:\n",
    "            self._interaction()\n",
    "            self.direction_outlook[0] = -np.abs(self.direction_outlook[0])       \n",
    "        if self.position[1] < barrier_s:\n",
    "            self._interaction()\n",
    "            self.direction_outlook[1] = np.abs(self.direction_outlook[1])\n",
    "        if self.position[1] > barrier_n:\n",
    "            self._interaction()\n",
    "            self.direction_outlook[1] = -np.abs(self.direction_outlook[1])\n",
    "    \n",
    "    def expected(self):\n",
    "        return self.position + self.speed * self.direction\n",
    "    \n",
    "    def assess_players(self,other_pedestrians):\n",
    "        assert type(other_pedestrians) == list, \"Pass a list of pedestrians.\"\n",
    "        assess_positions = []\n",
    "        for ped in other_pedestrians:\n",
    "            assess_positions.append(ped.expected())\n",
    "        \n",
    "    \n",
    "            \n",
    "            \n",
    "            \n",
    "            if norm(self.position - ped.position) < self.personal_space:\n",
    "                toss_coin = rng.choice([0,1])\n",
    "                if toss_coin != 0: # 50% change of interaction\n",
    "                    self.direction_outlook[0] = ped.direction[0]\n",
    "                    self.direction_outlook[1] = ped.direction[1]\n",
    "                    \n",
    "                    '''# Copy direction of neighbours\n",
    "                    self.direction_outlook[0] = ped.direction[0]\n",
    "                    self.direction_outlook[1] = ped.direction[1]\n",
    "                    self.direction_outlook[0] = - ped.direction[1]\n",
    "                    self.direction_outlook[1] = ped.direction[0]'''\n",
    "                \n",
    "    def walk(self):\n",
    "        self.position += self.speed * self.direction_outlook\n",
    "        self.current_step += 1\n",
    "        self.history[:,self.current_step] = self.position\n",
    "        self.direction = self.direction_outlook"
   ]
  },
  {
   "cell_type": "code",
   "execution_count": 177,
   "id": "1ccd424a-58ab-42a5-ac3b-c3df8daee068",
   "metadata": {},
   "outputs": [
    {
     "data": {
      "text/plain": [
       "(array([[-1,  0,  1,  2,  3,  4,  5,  6,  7,  8],\n",
       "        [ 9, 10, 11, 12, 13, 14, 15, 16, 17, 18]]),\n",
       " array([0.0994492 , 0.09090909, 0.08301951, 0.07595595, 0.06972692,\n",
       "        0.06426644, 0.05948349, 0.05528525, 0.05158687, 0.04831451]))"
      ]
     },
     "execution_count": 177,
     "metadata": {},
     "output_type": "execute_result"
    }
   ],
   "source": [
    "x = np.arange(2*10).reshape(2,10)\n",
    "y = np.array([1,1])\n",
    "x, x-y.reshape(2,1)\n",
    "\n",
    "this = x-y.reshape(2,1)\n",
    "this, 1/(1+norm(this, axis = 0))"
   ]
  }
 ],
 "metadata": {
  "kernelspec": {
   "display_name": "Python 3",
   "language": "python",
   "name": "python3"
  },
  "language_info": {
   "codemirror_mode": {
    "name": "ipython",
    "version": 3
   },
   "file_extension": ".py",
   "mimetype": "text/x-python",
   "name": "python",
   "nbconvert_exporter": "python",
   "pygments_lexer": "ipython3",
   "version": "3.8.10"
  }
 },
 "nbformat": 4,
 "nbformat_minor": 5
}
